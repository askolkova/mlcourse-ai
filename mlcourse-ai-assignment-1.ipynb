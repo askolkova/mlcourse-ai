{
 "cells": [
  {
   "cell_type": "markdown",
   "metadata": {
    "_uuid": "570fb89bb4f7838b1d0fdff70b2935790e5dbdbe"
   },
   "source": [
    "<center>\n",
    "<img src=\"https://habrastorage.org/files/fd4/502/43d/fd450243dd604b81b9713213a247aa20.jpg\">\n",
    "    \n",
    "## [mlcourse.ai](mlcourse.ai) – Open Machine Learning Course \n",
    "\n",
    "<center>Author: [Yury Kashnitskiy](http://yorko.github.io) <br>\n",
    "Translated and edited by [Sergey Isaev](https://www.linkedin.com/in/isvforall/), [Artem Trunov](https://www.linkedin.com/in/datamove/), [Anastasia Manokhina](https://www.linkedin.com/in/anastasiamanokhina/), and [Yuanyuan Pao](https://www.linkedin.com/in/yuanyuanpao/) <br>All content is distributed under the [Creative Commons CC BY-NC-SA 4.0](https://creativecommons.org/licenses/by-nc-sa/4.0/) license."
   ]
  },
  {
   "cell_type": "markdown",
   "metadata": {
    "_uuid": "998fc5f76227ab1df9460a7b05c508304b14b3a6"
   },
   "source": [
    "# <center> Assignment #1 (demo)\n",
    "## <center>  Exploratory data analysis with Pandas\n"
   ]
  },
  {
   "cell_type": "markdown",
   "metadata": {
    "_uuid": "89ef93231815456f4e0bc5dcc00b094aee800993"
   },
   "source": [
    "**In this task you should use Pandas to answer a few questions about the [Adult](https://archive.ics.uci.edu/ml/datasets/Adult) dataset. (You don't have to download the data – it's already here). Choose the answers in the [web-form](https://docs.google.com/forms/d/1uY7MpI2trKx6FLWZte0uVh3ULV4Cm_tDud0VDFGCOKg). This is a demo version of an assignment, so by submitting the form, you'll see a link to the solution .ipynb file.**"
   ]
  },
  {
   "cell_type": "markdown",
   "metadata": {
    "_uuid": "c322301ac858c748f8f80e63cf6f734fc70dde30"
   },
   "source": [
    "Unique values of all features (for more information, please see the links above):\n",
    "- `age`: continuous.\n",
    "- `workclass`: Private, Self-emp-not-inc, Self-emp-inc, Federal-gov, Local-gov, State-gov, Without-pay, Never-worked.\n",
    "- `fnlwgt`: continuous.\n",
    "- `education`: Bachelors, Some-college, 11th, HS-grad, Prof-school, Assoc-acdm, Assoc-voc, 9th, 7th-8th, 12th, Masters, 1st-4th, 10th, Doctorate, 5th-6th, Preschool.\n",
    "- `education-num`: continuous.\n",
    "- `marital-status`: Married-civ-spouse, Divorced, Never-married, Separated, Widowed, Married-spouse-absent, Married-AF-spouse.\n",
    "- `occupation`: Tech-support, Craft-repair, Other-service, Sales, Exec-managerial, Prof-specialty, Handlers-cleaners, Machine-op-inspct, Adm-clerical, Farming-fishing, Transport-moving, Priv-house-serv, Protective-serv, Armed-Forces.\n",
    "- `relationship`: Wife, Own-child, Husband, Not-in-family, Other-relative, Unmarried.\n",
    "- `race`: White, Asian-Pac-Islander, Amer-Indian-Eskimo, Other, Black.\n",
    "- `sex`: Female, Male.\n",
    "- `capital-gain`: continuous.\n",
    "- `capital-loss`: continuous.\n",
    "- `hours-per-week`: continuous.\n",
    "- `native-country`: United-States, Cambodia, England, Puerto-Rico, Canada, Germany, Outlying-US(Guam-USVI-etc), India, Japan, Greece, South, China, Cuba, Iran, Honduras, Philippines, Italy, Poland, Jamaica, Vietnam, Mexico, Portugal, Ireland, France, Dominican-Republic, Laos, Ecuador, Taiwan, Haiti, Columbia, Hungary, Guatemala, Nicaragua, Scotland, Thailand, Yugoslavia, El-Salvador, Trinadad&Tobago, Peru, Hong, Holand-Netherlands.   \n",
    "- `salary`: >50K,<=50K"
   ]
  },
  {
   "cell_type": "code",
   "execution_count": 1,
   "metadata": {
    "_uuid": "d3eb2411e23b7db11e4cbbb498a42752442a6f4c"
   },
   "outputs": [],
   "source": [
    "import pandas as pd"
   ]
  },
  {
   "cell_type": "code",
   "execution_count": 2,
   "metadata": {
    "_uuid": "c5119d1b8151029b4ff57735c4279b795ae492a2"
   },
   "outputs": [
    {
     "data": {
      "text/html": [
       "<div>\n",
       "<style scoped>\n",
       "    .dataframe tbody tr th:only-of-type {\n",
       "        vertical-align: middle;\n",
       "    }\n",
       "\n",
       "    .dataframe tbody tr th {\n",
       "        vertical-align: top;\n",
       "    }\n",
       "\n",
       "    .dataframe thead th {\n",
       "        text-align: right;\n",
       "    }\n",
       "</style>\n",
       "<table border=\"1\" class=\"dataframe\">\n",
       "  <thead>\n",
       "    <tr style=\"text-align: right;\">\n",
       "      <th></th>\n",
       "      <th>age</th>\n",
       "      <th>workclass</th>\n",
       "      <th>fnlwgt</th>\n",
       "      <th>education</th>\n",
       "      <th>education-num</th>\n",
       "      <th>marital-status</th>\n",
       "      <th>occupation</th>\n",
       "      <th>relationship</th>\n",
       "      <th>race</th>\n",
       "      <th>sex</th>\n",
       "      <th>capital-gain</th>\n",
       "      <th>capital-loss</th>\n",
       "      <th>hours-per-week</th>\n",
       "      <th>native-country</th>\n",
       "      <th>salary</th>\n",
       "    </tr>\n",
       "  </thead>\n",
       "  <tbody>\n",
       "    <tr>\n",
       "      <th>0</th>\n",
       "      <td>39</td>\n",
       "      <td>State-gov</td>\n",
       "      <td>77516</td>\n",
       "      <td>Bachelors</td>\n",
       "      <td>13</td>\n",
       "      <td>Never-married</td>\n",
       "      <td>Adm-clerical</td>\n",
       "      <td>Not-in-family</td>\n",
       "      <td>White</td>\n",
       "      <td>Male</td>\n",
       "      <td>2174</td>\n",
       "      <td>0</td>\n",
       "      <td>40</td>\n",
       "      <td>United-States</td>\n",
       "      <td>&lt;=50K</td>\n",
       "    </tr>\n",
       "    <tr>\n",
       "      <th>1</th>\n",
       "      <td>50</td>\n",
       "      <td>Self-emp-not-inc</td>\n",
       "      <td>83311</td>\n",
       "      <td>Bachelors</td>\n",
       "      <td>13</td>\n",
       "      <td>Married-civ-spouse</td>\n",
       "      <td>Exec-managerial</td>\n",
       "      <td>Husband</td>\n",
       "      <td>White</td>\n",
       "      <td>Male</td>\n",
       "      <td>0</td>\n",
       "      <td>0</td>\n",
       "      <td>13</td>\n",
       "      <td>United-States</td>\n",
       "      <td>&lt;=50K</td>\n",
       "    </tr>\n",
       "    <tr>\n",
       "      <th>2</th>\n",
       "      <td>38</td>\n",
       "      <td>Private</td>\n",
       "      <td>215646</td>\n",
       "      <td>HS-grad</td>\n",
       "      <td>9</td>\n",
       "      <td>Divorced</td>\n",
       "      <td>Handlers-cleaners</td>\n",
       "      <td>Not-in-family</td>\n",
       "      <td>White</td>\n",
       "      <td>Male</td>\n",
       "      <td>0</td>\n",
       "      <td>0</td>\n",
       "      <td>40</td>\n",
       "      <td>United-States</td>\n",
       "      <td>&lt;=50K</td>\n",
       "    </tr>\n",
       "    <tr>\n",
       "      <th>3</th>\n",
       "      <td>53</td>\n",
       "      <td>Private</td>\n",
       "      <td>234721</td>\n",
       "      <td>11th</td>\n",
       "      <td>7</td>\n",
       "      <td>Married-civ-spouse</td>\n",
       "      <td>Handlers-cleaners</td>\n",
       "      <td>Husband</td>\n",
       "      <td>Black</td>\n",
       "      <td>Male</td>\n",
       "      <td>0</td>\n",
       "      <td>0</td>\n",
       "      <td>40</td>\n",
       "      <td>United-States</td>\n",
       "      <td>&lt;=50K</td>\n",
       "    </tr>\n",
       "    <tr>\n",
       "      <th>4</th>\n",
       "      <td>28</td>\n",
       "      <td>Private</td>\n",
       "      <td>338409</td>\n",
       "      <td>Bachelors</td>\n",
       "      <td>13</td>\n",
       "      <td>Married-civ-spouse</td>\n",
       "      <td>Prof-specialty</td>\n",
       "      <td>Wife</td>\n",
       "      <td>Black</td>\n",
       "      <td>Female</td>\n",
       "      <td>0</td>\n",
       "      <td>0</td>\n",
       "      <td>40</td>\n",
       "      <td>Cuba</td>\n",
       "      <td>&lt;=50K</td>\n",
       "    </tr>\n",
       "  </tbody>\n",
       "</table>\n",
       "</div>"
      ],
      "text/plain": [
       "   age         workclass  fnlwgt  ...   hours-per-week  native-country salary\n",
       "0   39         State-gov   77516  ...               40   United-States  <=50K\n",
       "1   50  Self-emp-not-inc   83311  ...               13   United-States  <=50K\n",
       "2   38           Private  215646  ...               40   United-States  <=50K\n",
       "3   53           Private  234721  ...               40   United-States  <=50K\n",
       "4   28           Private  338409  ...               40            Cuba  <=50K\n",
       "\n",
       "[5 rows x 15 columns]"
      ]
     },
     "execution_count": 2,
     "metadata": {},
     "output_type": "execute_result"
    }
   ],
   "source": [
    "data = pd.read_csv('../input/adult.data.csv')\n",
    "data.head()"
   ]
  },
  {
   "cell_type": "markdown",
   "metadata": {
    "_uuid": "6b19853f936853d40971b56f4d298ab55ee78cac"
   },
   "source": [
    "**1. How many men and women (*sex* feature) are represented in this dataset?** "
   ]
  },
  {
   "cell_type": "code",
   "execution_count": 3,
   "metadata": {
    "_uuid": "d32cafcbe966dbdfa40c3017d16d6f8c96bfb3e2"
   },
   "outputs": [
    {
     "data": {
      "text/html": [
       "<div>\n",
       "<style scoped>\n",
       "    .dataframe tbody tr th:only-of-type {\n",
       "        vertical-align: middle;\n",
       "    }\n",
       "\n",
       "    .dataframe tbody tr th {\n",
       "        vertical-align: top;\n",
       "    }\n",
       "\n",
       "    .dataframe thead th {\n",
       "        text-align: right;\n",
       "    }\n",
       "</style>\n",
       "<table border=\"1\" class=\"dataframe\">\n",
       "  <thead>\n",
       "    <tr style=\"text-align: right;\">\n",
       "      <th>sex</th>\n",
       "      <th>Female</th>\n",
       "      <th>Male</th>\n",
       "    </tr>\n",
       "    <tr>\n",
       "      <th>sex</th>\n",
       "      <th></th>\n",
       "      <th></th>\n",
       "    </tr>\n",
       "  </thead>\n",
       "  <tbody>\n",
       "    <tr>\n",
       "      <th>Female</th>\n",
       "      <td>10771</td>\n",
       "      <td>0</td>\n",
       "    </tr>\n",
       "    <tr>\n",
       "      <th>Male</th>\n",
       "      <td>0</td>\n",
       "      <td>21790</td>\n",
       "    </tr>\n",
       "  </tbody>\n",
       "</table>\n",
       "</div>"
      ],
      "text/plain": [
       "sex     Female   Male\n",
       "sex                  \n",
       "Female   10771      0\n",
       "Male         0  21790"
      ]
     },
     "execution_count": 3,
     "metadata": {},
     "output_type": "execute_result"
    }
   ],
   "source": [
    "pd.crosstab(data['sex'], data['sex'])"
   ]
  },
  {
   "cell_type": "markdown",
   "metadata": {
    "_uuid": "4748793234a5d325ea60d13331ecf93e29774523"
   },
   "source": [
    "**2. What is the average age (*age* feature) of women?**"
   ]
  },
  {
   "cell_type": "code",
   "execution_count": 4,
   "metadata": {
    "_uuid": "64f60d928855107d8980875656dcdf3587d91646"
   },
   "outputs": [
    {
     "name": "stdout",
     "output_type": "stream",
     "text": [
      "Female\n",
      "36.85823043357163\n",
      "Male\n",
      "39.43354749885268\n"
     ]
    }
   ],
   "source": [
    "# You code here\n",
    "for sex, sub_df in data.groupby('sex'):\n",
    "    print(sex)\n",
    "    print(sub_df['age'].mean())"
   ]
  },
  {
   "cell_type": "markdown",
   "metadata": {
    "_uuid": "80e87c421c348067e88769c64e554206c51727d1"
   },
   "source": [
    "**3. What is the percentage of German citizens (*native-country* feature)?**"
   ]
  },
  {
   "cell_type": "code",
   "execution_count": 5,
   "metadata": {
    "_uuid": "ca9807509692638bd945671ed7d8b4a5ad1f3626"
   },
   "outputs": [
    {
     "data": {
      "text/plain": [
       "0.42074874850281013"
      ]
     },
     "execution_count": 5,
     "metadata": {},
     "output_type": "execute_result"
    }
   ],
   "source": [
    "# You code here\n",
    "len(data[data['native-country']=='Germany']) / len(data) * 100"
   ]
  },
  {
   "cell_type": "markdown",
   "metadata": {
    "_uuid": "be9911cf525df4fca2c1d14b8720bc8a82f462e7"
   },
   "source": [
    "**4-5. What are the mean and standard deviation of age for those who earn more than 50K per year (*salary* feature) and those who earn less than 50K per year? **"
   ]
  },
  {
   "cell_type": "code",
   "execution_count": 6,
   "metadata": {
    "_uuid": "97948f0115f949913d211627151b5605bcd204fd"
   },
   "outputs": [
    {
     "name": "stdout",
     "output_type": "stream",
     "text": [
      "count    7841.000000\n",
      "mean       44.249841\n",
      "std        10.519028\n",
      "min        19.000000\n",
      "25%        36.000000\n",
      "50%        44.000000\n",
      "75%        51.000000\n",
      "max        90.000000\n",
      "Name: age, dtype: float64\n"
     ]
    },
    {
     "data": {
      "text/plain": [
       "count    24720.000000\n",
       "mean        36.783738\n",
       "std         14.020088\n",
       "min         17.000000\n",
       "25%         25.000000\n",
       "50%         34.000000\n",
       "75%         46.000000\n",
       "max         90.000000\n",
       "Name: age, dtype: float64"
      ]
     },
     "execution_count": 6,
     "metadata": {},
     "output_type": "execute_result"
    }
   ],
   "source": [
    "# You code here\n",
    "print(data[data['salary'] == '>50K']['age'].describe())\n",
    "data[data['salary'] == '<=50K']['age'].describe()"
   ]
  },
  {
   "cell_type": "markdown",
   "metadata": {
    "_uuid": "180c3fe6f8b250b877c1d86866067b80acabdb64"
   },
   "source": [
    "**6. Is it true that people who earn more than 50K have at least high school education? (*education – Bachelors, Prof-school, Assoc-acdm, Assoc-voc, Masters* or *Doctorate* feature)**"
   ]
  },
  {
   "cell_type": "code",
   "execution_count": 7,
   "metadata": {
    "_uuid": "58f38ebfa2b0e1418a6a1a680d0743697f9876a2"
   },
   "outputs": [
    {
     "name": "stdout",
     "output_type": "stream",
     "text": [
      "10th\n",
      "11th\n",
      "12th\n",
      "1st-4th\n",
      "5th-6th\n",
      "7th-8th\n",
      "9th\n",
      "Assoc-acdm\n",
      "Assoc-voc\n",
      "Bachelors\n",
      "Doctorate\n",
      "HS-grad\n",
      "Masters\n",
      "Prof-school\n",
      "Some-college\n"
     ]
    }
   ],
   "source": [
    "# You code here\n",
    "for edu, sub_df in data[data['salary'] == '>50K'].groupby('education'):\n",
    "    print(edu)\n"
   ]
  },
  {
   "cell_type": "markdown",
   "metadata": {
    "_uuid": "87d6bc9ec1c230e66416ce94533ea250368009cc"
   },
   "source": [
    "**7. Display age statistics for each race (*race* feature) and each gender (*sex* feature). Use *groupby()* and *describe()*. Find the maximum age of men of *Amer-Indian-Eskimo* race.**"
   ]
  },
  {
   "cell_type": "code",
   "execution_count": 8,
   "metadata": {
    "_uuid": "a4567b72200b583f7f2ee1583405d636c12169db"
   },
   "outputs": [
    {
     "name": "stdout",
     "output_type": "stream",
     "text": [
      "('Amer-Indian-Eskimo', 'Female')\n",
      "count    119.000000\n",
      "mean      37.117647\n",
      "std       13.114991\n",
      "min       17.000000\n",
      "25%       27.000000\n",
      "50%       36.000000\n",
      "75%       46.000000\n",
      "max       80.000000\n",
      "Name: age, dtype: float64\n",
      "('Amer-Indian-Eskimo', 'Male')\n",
      "count    192.000000\n",
      "mean      37.208333\n",
      "std       12.049563\n",
      "min       17.000000\n",
      "25%       28.000000\n",
      "50%       35.000000\n",
      "75%       45.000000\n",
      "max       82.000000\n",
      "Name: age, dtype: float64\n",
      "('Asian-Pac-Islander', 'Female')\n",
      "count    346.000000\n",
      "mean      35.089595\n",
      "std       12.300845\n",
      "min       17.000000\n",
      "25%       25.000000\n",
      "50%       33.000000\n",
      "75%       43.750000\n",
      "max       75.000000\n",
      "Name: age, dtype: float64\n",
      "('Asian-Pac-Islander', 'Male')\n",
      "count    693.000000\n",
      "mean      39.073593\n",
      "std       12.883944\n",
      "min       18.000000\n",
      "25%       29.000000\n",
      "50%       37.000000\n",
      "75%       46.000000\n",
      "max       90.000000\n",
      "Name: age, dtype: float64\n",
      "('Black', 'Female')\n",
      "count    1555.000000\n",
      "mean       37.854019\n",
      "std        12.637197\n",
      "min        17.000000\n",
      "25%        28.000000\n",
      "50%        37.000000\n",
      "75%        46.000000\n",
      "max        90.000000\n",
      "Name: age, dtype: float64\n",
      "('Black', 'Male')\n",
      "count    1569.000000\n",
      "mean       37.682600\n",
      "std        12.882612\n",
      "min        17.000000\n",
      "25%        27.000000\n",
      "50%        36.000000\n",
      "75%        46.000000\n",
      "max        90.000000\n",
      "Name: age, dtype: float64\n",
      "('Other', 'Female')\n",
      "count    109.000000\n",
      "mean      31.678899\n",
      "std       11.631599\n",
      "min       17.000000\n",
      "25%       23.000000\n",
      "50%       29.000000\n",
      "75%       39.000000\n",
      "max       74.000000\n",
      "Name: age, dtype: float64\n",
      "('Other', 'Male')\n",
      "count    162.000000\n",
      "mean      34.654321\n",
      "std       11.355531\n",
      "min       17.000000\n",
      "25%       26.000000\n",
      "50%       32.000000\n",
      "75%       42.000000\n",
      "max       77.000000\n",
      "Name: age, dtype: float64\n",
      "('White', 'Female')\n",
      "count    8642.000000\n",
      "mean       36.811618\n",
      "std        14.329093\n",
      "min        17.000000\n",
      "25%        25.000000\n",
      "50%        35.000000\n",
      "75%        46.000000\n",
      "max        90.000000\n",
      "Name: age, dtype: float64\n",
      "('White', 'Male')\n",
      "count    19174.000000\n",
      "mean        39.652498\n",
      "std         13.436029\n",
      "min         17.000000\n",
      "25%         29.000000\n",
      "50%         38.000000\n",
      "75%         49.000000\n",
      "max         90.000000\n",
      "Name: age, dtype: float64\n"
     ]
    }
   ],
   "source": [
    "# You code here\n",
    "for race, sub_df in data.groupby(['race', 'sex']):\n",
    "    print(race)\n",
    "    print(sub_df['age'].describe())"
   ]
  },
  {
   "cell_type": "markdown",
   "metadata": {
    "_uuid": "19411d604b0d4337a4a048a2f0e898541f39ab76"
   },
   "source": [
    "**8. Among whom is the proportion of those who earn a lot (>50K) greater: married or single men (*marital-status* feature)? Consider as married those who have a *marital-status* starting with *Married* (Married-civ-spouse, Married-spouse-absent or Married-AF-spouse), the rest are considered bachelors.**"
   ]
  },
  {
   "cell_type": "code",
   "execution_count": 9,
   "metadata": {
    "_uuid": "5bb3a8524fcbd794707075ccf6aaf8dd0f30a3dd"
   },
   "outputs": [
    {
     "name": "stdout",
     "output_type": "stream",
     "text": [
      "1.071674125964844\n",
      "1.3929071395240318\n"
     ]
    }
   ],
   "source": [
    "# You code here\n",
    "data['married'] = (data['marital-status']=='Married-civ-spouse') | (data['marital-status']=='Married-spouse-absent') | (data['marital-status']=='Married-AF-spouse')\n",
    "print(len(data[(data['married']==1) | (data['salary']=='>50K')] ) / len(data[data['married']==1]))\n",
    "print(len(data[(data['married']==0) | (data['salary']=='>50K')] ) / len(data[data['married']==0]))\n",
    "\n",
    "\n"
   ]
  },
  {
   "cell_type": "markdown",
   "metadata": {
    "_uuid": "34f2076e7d331b95a23b990372809b709d2c8183"
   },
   "source": [
    "**9. What is the maximum number of hours a person works per week (*hours-per-week* feature)? How many people work such a number of hours, and what is the percentage of those who earn a lot (>50K) among them?**"
   ]
  },
  {
   "cell_type": "code",
   "execution_count": 10,
   "metadata": {
    "_uuid": "3571468172fc4bcf34e10b3d6ab358d4e41f7ef4"
   },
   "outputs": [
    {
     "name": "stdout",
     "output_type": "stream",
     "text": [
      "99\n",
      "85\n",
      "0.29411764705882354\n"
     ]
    }
   ],
   "source": [
    "# You code here\n",
    "print(data['hours-per-week'].max())\n",
    "print(len(data[data['hours-per-week']==99]))\n",
    "print(len(data[(data['hours-per-week']==99) & (data['salary']=='>50K')]) / len(data[data['hours-per-week']==99]))"
   ]
  },
  {
   "cell_type": "markdown",
   "metadata": {
    "_uuid": "d539d4d137fac1c5ea25bc516188eb657d67e9b4"
   },
   "source": [
    "**10. Count the average time of work (*hours-per-week*) for those who earn a little and a lot (*salary*) for each country (*native-country*). What will these be for Japan?**"
   ]
  },
  {
   "cell_type": "code",
   "execution_count": 11,
   "metadata": {
    "_uuid": "75a93411f1e3b519afcc27c026aaa0c67eb526e9"
   },
   "outputs": [
    {
     "name": "stdout",
     "output_type": "stream",
     "text": [
      "('<=50K', '?')\n",
      "40.16475972540046\n",
      "('<=50K', 'Cambodia')\n",
      "41.416666666666664\n",
      "('<=50K', 'Canada')\n",
      "37.91463414634146\n",
      "('<=50K', 'China')\n",
      "37.38181818181818\n",
      "('<=50K', 'Columbia')\n",
      "38.68421052631579\n",
      "('<=50K', 'Cuba')\n",
      "37.98571428571429\n",
      "('<=50K', 'Dominican-Republic')\n",
      "42.338235294117645\n",
      "('<=50K', 'Ecuador')\n",
      "38.041666666666664\n",
      "('<=50K', 'El-Salvador')\n",
      "36.03092783505155\n",
      "('<=50K', 'England')\n",
      "40.483333333333334\n",
      "('<=50K', 'France')\n",
      "41.05882352941177\n",
      "('<=50K', 'Germany')\n",
      "39.13978494623656\n",
      "('<=50K', 'Greece')\n",
      "41.80952380952381\n",
      "('<=50K', 'Guatemala')\n",
      "39.36065573770492\n",
      "('<=50K', 'Haiti')\n",
      "36.325\n",
      "('<=50K', 'Holand-Netherlands')\n",
      "40.0\n",
      "('<=50K', 'Honduras')\n",
      "34.333333333333336\n",
      "('<=50K', 'Hong')\n",
      "39.142857142857146\n",
      "('<=50K', 'Hungary')\n",
      "31.3\n",
      "('<=50K', 'India')\n",
      "38.233333333333334\n",
      "('<=50K', 'Iran')\n",
      "41.44\n",
      "('<=50K', 'Ireland')\n",
      "40.94736842105263\n",
      "('<=50K', 'Italy')\n",
      "39.625\n",
      "('<=50K', 'Jamaica')\n",
      "38.23943661971831\n",
      "('<=50K', 'Japan')\n",
      "41.0\n",
      "('<=50K', 'Laos')\n",
      "40.375\n",
      "('<=50K', 'Mexico')\n",
      "40.00327868852459\n",
      "('<=50K', 'Nicaragua')\n",
      "36.09375\n",
      "('<=50K', 'Outlying-US(Guam-USVI-etc)')\n",
      "41.857142857142854\n",
      "('<=50K', 'Peru')\n",
      "35.06896551724138\n",
      "('<=50K', 'Philippines')\n",
      "38.065693430656935\n",
      "('<=50K', 'Poland')\n",
      "38.166666666666664\n",
      "('<=50K', 'Portugal')\n",
      "41.93939393939394\n",
      "('<=50K', 'Puerto-Rico')\n",
      "38.470588235294116\n",
      "('<=50K', 'Scotland')\n",
      "39.44444444444444\n",
      "('<=50K', 'South')\n",
      "40.15625\n",
      "('<=50K', 'Taiwan')\n",
      "33.774193548387096\n",
      "('<=50K', 'Thailand')\n",
      "42.86666666666667\n",
      "('<=50K', 'Trinadad&Tobago')\n",
      "37.05882352941177\n",
      "('<=50K', 'United-States')\n",
      "38.79912723305605\n",
      "('<=50K', 'Vietnam')\n",
      "37.193548387096776\n",
      "('<=50K', 'Yugoslavia')\n",
      "41.6\n",
      "('>50K', '?')\n",
      "45.54794520547945\n",
      "('>50K', 'Cambodia')\n",
      "40.0\n",
      "('>50K', 'Canada')\n",
      "45.64102564102564\n",
      "('>50K', 'China')\n",
      "38.9\n",
      "('>50K', 'Columbia')\n",
      "50.0\n",
      "('>50K', 'Cuba')\n",
      "42.44\n",
      "('>50K', 'Dominican-Republic')\n",
      "47.0\n",
      "('>50K', 'Ecuador')\n",
      "48.75\n",
      "('>50K', 'El-Salvador')\n",
      "45.0\n",
      "('>50K', 'England')\n",
      "44.53333333333333\n",
      "('>50K', 'France')\n",
      "50.75\n",
      "('>50K', 'Germany')\n",
      "44.97727272727273\n",
      "('>50K', 'Greece')\n",
      "50.625\n",
      "('>50K', 'Guatemala')\n",
      "36.666666666666664\n",
      "('>50K', 'Haiti')\n",
      "42.75\n",
      "('>50K', 'Honduras')\n",
      "60.0\n",
      "('>50K', 'Hong')\n",
      "45.0\n",
      "('>50K', 'Hungary')\n",
      "50.0\n",
      "('>50K', 'India')\n",
      "46.475\n",
      "('>50K', 'Iran')\n",
      "47.5\n",
      "('>50K', 'Ireland')\n",
      "48.0\n",
      "('>50K', 'Italy')\n",
      "45.4\n",
      "('>50K', 'Jamaica')\n",
      "41.1\n",
      "('>50K', 'Japan')\n",
      "47.958333333333336\n",
      "('>50K', 'Laos')\n",
      "40.0\n",
      "('>50K', 'Mexico')\n",
      "46.57575757575758\n",
      "('>50K', 'Nicaragua')\n",
      "37.5\n",
      "('>50K', 'Peru')\n",
      "40.0\n",
      "('>50K', 'Philippines')\n",
      "43.032786885245905\n",
      "('>50K', 'Poland')\n",
      "39.0\n",
      "('>50K', 'Portugal')\n",
      "41.5\n",
      "('>50K', 'Puerto-Rico')\n",
      "39.416666666666664\n",
      "('>50K', 'Scotland')\n",
      "46.666666666666664\n",
      "('>50K', 'South')\n",
      "51.4375\n",
      "('>50K', 'Taiwan')\n",
      "46.8\n",
      "('>50K', 'Thailand')\n",
      "58.333333333333336\n",
      "('>50K', 'Trinadad&Tobago')\n",
      "40.0\n",
      "('>50K', 'United-States')\n",
      "45.50536884674383\n",
      "('>50K', 'Vietnam')\n",
      "39.2\n",
      "('>50K', 'Yugoslavia')\n",
      "49.5\n"
     ]
    }
   ],
   "source": [
    "# You code here\n",
    "for ind, sub_df in data.groupby(['salary', 'native-country']):\n",
    "    print(ind)\n",
    "    print(sub_df['hours-per-week'].mean())"
   ]
  }
 ],
 "metadata": {
  "anaconda-cloud": {},
  "kernelspec": {
   "display_name": "Python 3",
   "language": "python",
   "name": "python3"
  },
  "language_info": {
   "codemirror_mode": {
    "name": "ipython",
    "version": 3
   },
   "file_extension": ".py",
   "mimetype": "text/x-python",
   "name": "python",
   "nbconvert_exporter": "python",
   "pygments_lexer": "ipython3",
   "version": "3.6.6"
  }
 },
 "nbformat": 4,
 "nbformat_minor": 1
}
